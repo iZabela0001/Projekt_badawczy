{
 "cells": [
  {
   "cell_type": "code",
   "execution_count": 2,
   "id": "7439ef16",
   "metadata": {},
   "outputs": [],
   "source": [
    "import pandas as pd"
   ]
  },
  {
   "cell_type": "code",
   "execution_count": 2,
   "id": "1ad0eefd",
   "metadata": {},
   "outputs": [
    {
     "name": "stderr",
     "output_type": "stream",
     "text": [
      "/opt/anaconda3/lib/python3.8/site-packages/IPython/core/interactiveshell.py:3165: DtypeWarning: Columns (10) have mixed types.Specify dtype option on import or set low_memory=False.\n",
      "  has_raised = await self.run_ast_nodes(code_ast.body, cell_name,\n"
     ]
    }
   ],
   "source": [
    "\n",
    "rna = pd.read_csv(\"rna_tpm.tsv\", sep=\"\\t\", index_col=0) \n",
    "mirna = pd.read_csv(\"mirna.tsv\", sep=\"\\t\", index_col=0).T\n",
    "protein = pd.read_csv(\"protein.tsv\", sep=\"\\t\", index_col=0).T\n",
    "\n",
    "clinical = pd.read_csv(\"clinical.tsv\", sep=\"\\t\", index_col=0)\n",
    "subtypes = pd.read_csv(\"subtypes.csv\", index_col=0)\n"
   ]
  },
  {
   "cell_type": "code",
   "execution_count": null,
   "id": "1e7f33cc",
   "metadata": {},
   "outputs": [],
   "source": [
    "print(rna)"
   ]
  },
  {
   "cell_type": "markdown",
   "id": "2a6b8a77",
   "metadata": {},
   "source": [
    "## Wybrór konkretnego RNA --- zamienic nazwy na geny !!!!!!"
   ]
  },
  {
   "cell_type": "code",
   "execution_count": 3,
   "id": "aa30e195",
   "metadata": {},
   "outputs": [],
   "source": [
    "import pandas as pd\n",
    "\n",
    "df = rna\n",
    "# przykładowo:\n",
    "# df = pd.read_csv(\"rna.tsv\", sep=\"\\t\", index_col=0)\n",
    "\n",
    "# usuń część po kropce z ID\n",
    "df.index = df.index.str.replace(r'\\.\\d+$', '', regex=True)\n"
   ]
  },
  {
   "cell_type": "code",
   "execution_count": 4,
   "id": "d34f27b6",
   "metadata": {},
   "outputs": [
    {
     "name": "stderr",
     "output_type": "stream",
     "text": [
      "Input sequence provided is already in string format. No operation performed\n",
      "Input sequence provided is already in string format. No operation performed\n",
      "29 input query terms found dup hits:\t[('ENSG00000175711', 2), ('ENSG00000188660', 2), ('ENSG00000215156', 2), ('ENSG00000226506', 2), ('E\n",
      "1303 input query terms found no hit:\t['ENSG00000002079', 'ENSG00000002586.20_PAR_Y', 'ENSG00000112096', 'ENSG00000124333.16_PAR_Y', 'ENSG\n"
     ]
    }
   ],
   "source": [
    "import mygene\n",
    "mg = mygene.MyGeneInfo()\n",
    "\n",
    "mapping = mg.querymany(df.index, scopes='ensembl.gene', fields='symbol', species='human')\n"
   ]
  },
  {
   "cell_type": "code",
   "execution_count": 5,
   "id": "ad795dbc",
   "metadata": {},
   "outputs": [],
   "source": [
    "# słownik: Ensembl → symbol\n",
    "map_dict = {d['query']: d.get('symbol') for d in mapping if 'symbol' in d}\n",
    "\n",
    "# teraz podmień indeks w dataframe\n",
    "df = df.rename(index=map_dict)\n"
   ]
  },
  {
   "cell_type": "code",
   "execution_count": 6,
   "id": "58965540",
   "metadata": {},
   "outputs": [],
   "source": [
    "df = df[~df.index.isna()]\n"
   ]
  },
  {
   "cell_type": "code",
   "execution_count": 7,
   "id": "9a39c271",
   "metadata": {},
   "outputs": [],
   "source": [
    "df = df[~df.index.str.startswith('ENSG')]\n"
   ]
  },
  {
   "cell_type": "code",
   "execution_count": 8,
   "id": "d52153e0",
   "metadata": {},
   "outputs": [],
   "source": [
    "df.to_csv(\"rna_mapped.csv\")\n"
   ]
  },
  {
   "cell_type": "markdown",
   "id": "c6222b94",
   "metadata": {},
   "source": [
    "### wybór genów"
   ]
  },
  {
   "cell_type": "code",
   "execution_count": null,
   "id": "474ee59b",
   "metadata": {},
   "outputs": [],
   "source": [
    "rna_wybrane =  pd.read_csv(\"rna_mapped.csv\")\n"
   ]
  },
  {
   "cell_type": "code",
   "execution_count": null,
   "id": "83bc8c2a",
   "metadata": {},
   "outputs": [],
   "source": [
    "genes = [\n",
    "    \"ESR1\", \"PGR\", \"ERBB2\", \"EGFR\", \"KRT5\", \"KRT14\", \"KRT17\", \"FOXA1\", \"GATA3\",\n",
    "    \"BCL2\", \"CDH1\", \"VIM\", \"CLDN3\", \"CLDN4\", \"CLDN7\", \"MKI67\", \"CCND1\", \"MYC\",\n",
    "    \"TP53\", \"PIK3CA\", \"PTEN\", \"AKT1\", \"BRCA1\", \"BRCA2\", \"AR\", \"FGFR1\",\n",
    "    \"KRT18\", \"KRT19\", \"MUC1\", \"EPCAM\", \"SNAI1\", \"SNAI2\", \"ZEB1\", \"ZEB2\",\n",
    "    \"TWIST1\", \"TGFBR2\", \"CD24\", \"CD44\"\n",
    "]\n",
    "\n",
    "print(rna_wybrane)\n"
   ]
  },
  {
   "cell_type": "code",
   "execution_count": null,
   "id": "5507b122",
   "metadata": {},
   "outputs": [
    {
     "name": "stdout",
     "output_type": "stream",
     "text": [
      "Dostępne geny: ['ESR1', 'PGR', 'ERBB2', 'EGFR', 'KRT5', 'KRT14', 'KRT17', 'FOXA1', 'GATA3', 'BCL2', 'CDH1', 'VIM', 'CLDN3', 'CLDN4', 'CLDN7', 'MKI67', 'CCND1', 'MYC', 'TP53', 'PIK3CA', 'PTEN', 'AKT1', 'BRCA1', 'BRCA2', 'AR', 'FGFR1', 'KRT18', 'KRT19', 'MUC1', 'EPCAM', 'SNAI1', 'SNAI2', 'ZEB1', 'ZEB2', 'TWIST1', 'TGFBR2', 'CD24', 'CD44']\n",
      "Brakujące geny: []\n",
      "Wybrano 38 wierszy z 38 genami\n"
     ]
    }
   ],
   "source": [
    "available_rna = [p for p in genes if p in rna_wybrane['Ensembl_ID'].values]\n",
    "missing_rna = [p for p in genes if p not in rna_wybrane['Ensembl_ID'].values]\n",
    "\n",
    "print(\"Dostępne geny:\", available_rna)\n",
    "print(\"Brakujące geny:\", missing_rna)\n",
    "\n",
    "# FILTRUJ WIERSZE GDZIE Ensembl_ID JEST W available_rna\n",
    "selected_dfmirna = rna_wybrane[rna_wybrane['Ensembl_ID'].isin(available_rna)]\n",
    "selected_dfmirna.to_csv(\"wybrane_rna.tsv\", sep=\"\\t\", index=False)\n"
   ]
  },
  {
   "cell_type": "code",
   "execution_count": 22,
   "id": "1d6bf36c",
   "metadata": {},
   "outputs": [
    {
     "name": "stdout",
     "output_type": "stream",
     "text": [
      "{'_id': '7105', '_version': 1, 'symbol': 'TSPAN6'}\n"
     ]
    }
   ],
   "source": [
    "g = mg.getgene('ENSG00000000003',  field = 'symbol')# , 'symbol' ] )# fields= 'entrezgene, symbol') \n",
    "\n",
    "print(g)"
   ]
  },
  {
   "cell_type": "markdown",
   "id": "fffe7a31",
   "metadata": {},
   "source": [
    "## Wybrór konkretnego miRNA"
   ]
  },
  {
   "cell_type": "code",
   "execution_count": null,
   "id": "e5be1f5f",
   "metadata": {},
   "outputs": [
    {
     "name": "stdout",
     "output_type": "stream",
     "text": [
      "['hsa-let-7a-1', 'hsa-let-7a-2', 'hsa-let-7a-3', 'hsa-let-7b', 'hsa-let-7c', 'hsa-let-7d', 'hsa-let-7e', 'hsa-let-7f-1', 'hsa-let-7f-2', 'hsa-let-7g', 'hsa-let-7i', 'hsa-mir-21', 'hsa-mir-141', 'hsa-mir-200a', 'hsa-mir-200b', 'hsa-mir-200c', 'hsa-mir-429', 'hsa-mir-221', 'hsa-mir-222', 'hsa-mir-205', 'hsa-mir-155', 'hsa-mir-10b', 'hsa-mir-31', 'hsa-mir-34a']\n",
      "[]\n"
     ]
    }
   ],
   "source": [
    "wybrane_mirna = [\n",
    "    # let-7 family (Supresja proliferacji)\n",
    "    \"hsa-let-7a-1\",\n",
    "    \"hsa-let-7a-2\",\n",
    "    \"hsa-let-7a-3\",\n",
    "    \"hsa-let-7b\",\n",
    "    \"hsa-let-7c\",\n",
    "    \"hsa-let-7d\",\n",
    "    \"hsa-let-7e\",\n",
    "    \"hsa-let-7f-1\",\n",
    "    \"hsa-let-7f-2\",\n",
    "    \"hsa-let-7g\",\n",
    "    \"hsa-let-7i\",\n",
    "    \n",
    "    # miR-21 (Onkogenne)\n",
    "    \"hsa-mir-21\",\n",
    "    \n",
    "    # miR-200 family (Regulacja EMT)\n",
    "    \"hsa-mir-141\",\n",
    "    \"hsa-mir-200a\",\n",
    "    \"hsa-mir-200b\",\n",
    "    \"hsa-mir-200c\",\n",
    "    \"hsa-mir-429\",\n",
    "    \n",
    "    # miR-221/222 (Oporność na terapię hormonalną)\n",
    "    \"hsa-mir-221\",\n",
    "    \"hsa-mir-222\",\n",
    "    \n",
    "    # miR-205 (Marker luminalny, tłumi EMT)\n",
    "    \"hsa-mir-205\",\n",
    "    \n",
    "    # miR-155 (Prozapalny)\n",
    "    \"hsa-mir-155\",\n",
    "    \n",
    "    # miR-10b (Promocja przerzutów)\n",
    "    \"hsa-mir-10b\",\n",
    "    \n",
    "    # miR-31 (Zahamowanie migracji)\n",
    "    \"hsa-mir-31\",\n",
    "    \n",
    "    # miR-34a (Regulacja p53 i apoptozy)\n",
    "    \"hsa-mir-34a\"\n",
    "]\n",
    "\n",
    "\n",
    "availablemirna = [p for p in wybrane_mirna if p in mirna.columns]\n",
    "missingmirna = [p for p in wybrane_mirna if p not in mirna.columns]\n",
    "\n",
    "print(availablemirna)\n",
    "print(missingmirna)\n",
    "\n",
    "\n",
    "selected_dfmirna = mirna[availablemirna]\n",
    "selected_dfmirna.to_csv(\"wybrane_mirna.tsv\", sep=\"\\t\")\n"
   ]
  },
  {
   "cell_type": "markdown",
   "id": "5fe11ed2",
   "metadata": {},
   "source": [
    "## Wybrór konkretnego protein"
   ]
  },
  {
   "cell_type": "code",
   "execution_count": 35,
   "id": "7a5200be",
   "metadata": {},
   "outputs": [],
   "source": [
    "\n",
    "proteins = [\n",
    "    \"ERALPHA\", \"PR\", \"HER2\", \"PHER2\", \"EGFR\", \"AKT_pS473\", \"PAKT\", \"P53\", \"PS6\",\n",
    "    \"PTEN\", \"PMAPK\", \"MEK1\", \"CyclinB1\", \"Ki67\", \"BCL2\", \"BAX\",\n",
    "    \"PARPCLEAVED\", \"p53\", \"BRCA1\", \"ECADHERIN\", \"NCADHERIN\", \"BETACATENIN\", \"PDL1\"\n",
    "]\n",
    "\n",
    "protein.columns = protein.columns.str.replace(r\"[^A-Za-z0-9]\", \"\", regex=True).str.upper()\n",
    "\n",
    "available = [p for p in proteins if p in protein.columns]\n",
    "missing = [p for p in proteins if p not in protein.columns]\n",
    "\n",
    "\n",
    "selected_df = protein[available]\n",
    "\n",
    "selected_df.to_csv(\"protein_selected.tsv\", sep=\"\\t\")\n",
    "\n",
    "#print(selected_df.head())\n"
   ]
  },
  {
   "cell_type": "code",
   "execution_count": 18,
   "id": "ecf64d61",
   "metadata": {},
   "outputs": [],
   "source": [
    "#print(\"RNA IDs:\", rna.index[:5])\n",
    "#print(\"MiRNA IDs:\", mirna.index[:5])\n",
    "#print(\"Protein IDs:\", protein.index[:5])\n",
    "#print(\"Clinical IDs:\", clinical.index[:5])\n",
    "#print(\"Subtypes IDs:\", subtypes.index[:5])\n"
   ]
  },
  {
   "cell_type": "code",
   "execution_count": 19,
   "id": "eb1e80ed",
   "metadata": {},
   "outputs": [],
   "source": [
    "#common_ids = set(rna.index) & set(mirna.index) & set(protein.index)\n",
    "#print(\"Liczba wspólnych pacjentek molekularnych:\", len(common_ids))\n",
    "\n",
    "#combined_molecular = rna.join([mirna, protein], how=\"inner\")\n",
    "#print(\"Rozmiar połączonych danych molekularnych:\", combined_molecular.shape)\n",
    "\n",
    "#print(combined_molecular.head())\n"
   ]
  },
  {
   "cell_type": "markdown",
   "id": "1c2688ed",
   "metadata": {},
   "source": [
    "# Wybór ze zbioru clinical"
   ]
  },
  {
   "cell_type": "code",
   "execution_count": 4,
   "id": "b80f6e3e",
   "metadata": {},
   "outputs": [],
   "source": [
    "clinical = pd.read_csv(\"clinical-oczyszcz.tsv\", sep=\"\\t\", index_col=0)\n"
   ]
  },
  {
   "cell_type": "code",
   "execution_count": null,
   "id": "228a1359",
   "metadata": {},
   "outputs": [],
   "source": [
    "#clinical.columns"
   ]
  },
  {
   "cell_type": "code",
   "execution_count": 6,
   "id": "1b4400dc",
   "metadata": {},
   "outputs": [],
   "source": [
    "selected_clinical = [\n",
    "    \"cases.submitter_id\", \"cases.case_id\",\n",
    "    \"demographic.age_at_index\", \"demographic.gender\",\n",
    "    \"demographic.race\", \"demographic.ethnicity\",\n",
    "    \"demographic.vital_status\", \"demographic.days_to_death\",\n",
    "    \"cases.days_to_lost_to_followup\",\n",
    "    \"diagnoses.age_at_diagnosis\", \"diagnoses.primary_diagnosis\",\n",
    "    \"diagnoses.ajcc_pathologic_stage\", \"diagnoses.ajcc_pathologic_t\",\n",
    "    \"diagnoses.ajcc_pathologic_n\", \"diagnoses.ajcc_pathologic_m\",\n",
    "    \"diagnoses.year_of_diagnosis\", \"diagnoses.laterality\",\n",
    "    \"treatments.treatment_type\", \"treatments.treatment_outcome\"\n",
    "]\n"
   ]
  },
  {
   "cell_type": "code",
   "execution_count": null,
   "id": "6338f16d",
   "metadata": {},
   "outputs": [],
   "source": [
    "clinical_av = [p for p in selected_clinical if p in clinical.columns]\n",
    "miss_clinic = [p for p in selected_clinical if p not in clinical.columns]\n",
    "\n",
    "print(clinical_av)\n",
    "print(miss_clinic)\n",
    "\n",
    "\n",
    "selected_clinical= clinical[clinical_av]\n",
    "selected_clinical.to_csv(\"clinical_av.tsv\", sep=\"\\t\")"
   ]
  },
  {
   "cell_type": "markdown",
   "id": "8e08add6",
   "metadata": {},
   "source": [
    "# Wybór ze zbioru subtypes\n"
   ]
  },
  {
   "cell_type": "code",
   "execution_count": 10,
   "id": "b299b4a4",
   "metadata": {},
   "outputs": [],
   "source": [
    "subtypes = pd.read_csv(\"subtypes.csv\")\n"
   ]
  },
  {
   "cell_type": "code",
   "execution_count": 13,
   "id": "5ff75f76",
   "metadata": {},
   "outputs": [],
   "source": [
    "selected_subtypes = [\n",
    "    \"patient\",\n",
    "    \"Tumor.Type\",\n",
    "    \"vital_status\",\n",
    "    \"days_to_death\",\n",
    "    \"days_to_last_followup\",\n",
    "    \"age_at_initial_pathologic_diagnosis\",\n",
    "    \"pathologic_stage\",\n",
    "    \"Tumor_Grade\",\n",
    "    \"BRCA_Pathology\",\n",
    "    \"BRCA_Subtype_PAM50\",\n",
    "    \"tobacco_smoking_history\"\n",
    "]\n"
   ]
  },
  {
   "cell_type": "code",
   "execution_count": 14,
   "id": "36927451",
   "metadata": {},
   "outputs": [
    {
     "name": "stdout",
     "output_type": "stream",
     "text": [
      "['patient', 'Tumor.Type', 'vital_status', 'days_to_death', 'days_to_last_followup', 'age_at_initial_pathologic_diagnosis', 'pathologic_stage', 'Tumor_Grade', 'BRCA_Pathology', 'BRCA_Subtype_PAM50', 'tobacco_smoking_history']\n",
      "[]\n"
     ]
    }
   ],
   "source": [
    "subtypes_av = [p for p in selected_subtypes if p in subtypes.columns]\n",
    "miss_subtypes= [p for p in selected_subtypes if p not in subtypes.columns]\n",
    "\n",
    "print(subtypes_av)\n",
    "print(miss_subtypes)\n",
    "\n",
    "\n",
    "selected_subtypes2= subtypes[subtypes_av]\n",
    "selected_subtypes2.to_csv(\"subtypes_av.tsv\", sep=\"\\t\")"
   ]
  },
  {
   "cell_type": "code",
   "execution_count": null,
   "id": "a115e286",
   "metadata": {},
   "outputs": [],
   "source": []
  },
  {
   "cell_type": "code",
   "execution_count": null,
   "id": "ec42cea6",
   "metadata": {},
   "outputs": [],
   "source": []
  },
  {
   "cell_type": "markdown",
   "id": "5bc9714d",
   "metadata": {},
   "source": [
    "# Porównanie ID pacjentów między plikami"
   ]
  },
  {
   "cell_type": "markdown",
   "id": "babc96ff",
   "metadata": {},
   "source": [
    "## miRNA + protein"
   ]
  },
  {
   "cell_type": "code",
   "execution_count": null,
   "id": "dab59ed3",
   "metadata": {},
   "outputs": [],
   "source": [
    "\n",
    "df_protein = pd.read_csv('protein_selected.tsv', sep='\\t', index_col=0)\n",
    "df_mirna = pd.read_csv('wybrane_mirna.tsv', sep='\\t', index_col=0)\n",
    "\n",
    "ids_protein = set(df_protein.index)\n",
    "ids_mirna = set(df_mirna.index)\n",
    "\n",
    "\n",
    "common_ids = len(ids_protein.intersection(ids_mirna))\n",
    "different_ids = len(ids_protein.symmetric_difference(ids_mirna))\n",
    "\n",
    "print(f\"Liczba takich samych ID (wspólnych): {common_ids}\")\n",
    "print(f\"Liczba różnych ID (łącznie w obu plikach): {different_ids}\")\n"
   ]
  },
  {
   "cell_type": "markdown",
   "id": "5935ec23",
   "metadata": {},
   "source": [
    "### Połączenie plików po id pacjenta"
   ]
  },
  {
   "cell_type": "code",
   "execution_count": null,
   "id": "a9151e1b",
   "metadata": {},
   "outputs": [],
   "source": [
    "\n",
    "df_combined = df_protein.join(df_mirna, how='inner')\n",
    "\n",
    "print(df_combined)\n",
    "\n",
    "df_combined.to_csv(\"protein_mirna-connected.tsv\", sep=\"\\t\")"
   ]
  },
  {
   "cell_type": "markdown",
   "id": "7fe54441",
   "metadata": {},
   "source": [
    "## miRNA + protein + RNA"
   ]
  },
  {
   "cell_type": "code",
   "execution_count": 46,
   "id": "6645ebb1",
   "metadata": {},
   "outputs": [],
   "source": [
    "rna_wybrane = pd.read_csv(\"wybrane_rna.tsv\", sep=\"\\t\", index_col=0).T \n",
    "mirnaprot = pd.read_csv(\"protein_mirna-connected.tsv\", sep=\"\\t\", index_col=0) "
   ]
  },
  {
   "cell_type": "code",
   "execution_count": null,
   "id": "2600bd74",
   "metadata": {},
   "outputs": [],
   "source": [
    "print(mirnaprot)\n"
   ]
  },
  {
   "cell_type": "code",
   "execution_count": null,
   "id": "985a275d",
   "metadata": {},
   "outputs": [],
   "source": [
    "print(rna_wybrane)"
   ]
  },
  {
   "cell_type": "code",
   "execution_count": 53,
   "id": "a9a96f86",
   "metadata": {},
   "outputs": [],
   "source": [
    "df_combined2 = mirnaprot.join(rna_wybrane, how='inner', lsuffix='_mirnaprot', rsuffix='_rna')\n",
    "\n",
    "df_combined2.to_csv(\"protein_mirna_rna-connected.tsv\", sep=\"\\t\")"
   ]
  },
  {
   "cell_type": "markdown",
   "id": "52dd4fe5",
   "metadata": {},
   "source": [
    "# clinical + subtypes"
   ]
  },
  {
   "cell_type": "code",
   "execution_count": 20,
   "id": "e5c7c0d7",
   "metadata": {},
   "outputs": [],
   "source": [
    "df_clinical = pd.read_csv('clinical_av.tsv', sep='\\t', index_col=0)\n",
    "df_subtypes = pd.read_csv('subtypes_av.tsv', sep='\\t', index_col=0)"
   ]
  },
  {
   "cell_type": "code",
   "execution_count": null,
   "id": "7431f40d",
   "metadata": {},
   "outputs": [],
   "source": [
    "print(df_clinical)"
   ]
  },
  {
   "cell_type": "code",
   "execution_count": null,
   "id": "6c704830",
   "metadata": {},
   "outputs": [],
   "source": [
    "print(df_subtypes)"
   ]
  },
  {
   "cell_type": "code",
   "execution_count": null,
   "id": "d907a2f4",
   "metadata": {},
   "outputs": [
    {
     "name": "stdout",
     "output_type": "stream",
     "text": [
      "Liczba wspólnych pacjentów: 1086\n"
     ]
    }
   ],
   "source": [
    "merged_df = df_clinical.reset_index().merge(\n",
    "    df_subtypes,\n",
    "    how='inner',\n",
    "    left_on='cases.submitter_id',\n",
    "    right_on='patient'\n",
    ")\n",
    "\n",
    "#print(\"Liczba wspólnych pacjentów:\", merged_df['patient'].nunique())"
   ]
  },
  {
   "cell_type": "code",
   "execution_count": 24,
   "id": "361a4c35",
   "metadata": {},
   "outputs": [],
   "source": [
    "merged_df.to_csv('merged_clinical_subtypes.tsv', sep='\\t', index=False)\n"
   ]
  },
  {
   "cell_type": "markdown",
   "id": "22e96187",
   "metadata": {},
   "source": [
    "# Clinical + subtypes + protein + miRNA + RNA"
   ]
  },
  {
   "cell_type": "code",
   "execution_count": 31,
   "id": "b97bca6a",
   "metadata": {},
   "outputs": [],
   "source": [
    "df_geny = pd.read_csv('protein_mirna_rna-connected2.tsv', sep='\\t', index_col=0)\n",
    "df_ogolne = pd.read_csv('merged_clinical_subtypes.tsv', sep='\\t', index_col=0)"
   ]
  },
  {
   "cell_type": "code",
   "execution_count": 32,
   "id": "d9838931",
   "metadata": {},
   "outputs": [],
   "source": [
    "df_geny.index = df_geny.index.str.replace(r'-\\d+[A-Z]+$', '', regex=True)"
   ]
  },
  {
   "cell_type": "code",
   "execution_count": 33,
   "id": "5c8de754",
   "metadata": {},
   "outputs": [
    {
     "data": {
      "text/plain": [
       "Index(['ID.1', 'ERALPHA', 'PR', 'HER2', 'EGFR_mirnaprot', 'P53',\n",
       "       'PTEN_mirnaprot', 'MEK1', 'BCL2_mirnaprot', 'BAX', 'PARPCLEAVED',\n",
       "       'ECADHERIN', 'NCADHERIN', 'BETACATENIN', 'PDL1', 'hsa-let-7a-1',\n",
       "       'hsa-let-7a-2', 'hsa-let-7a-3', 'hsa-let-7b', 'hsa-let-7c',\n",
       "       'hsa-let-7d', 'hsa-let-7e', 'hsa-let-7f-1', 'hsa-let-7f-2',\n",
       "       'hsa-let-7g', 'hsa-let-7i', 'hsa-mir-21', 'hsa-mir-141', 'hsa-mir-200a',\n",
       "       'hsa-mir-200b', 'hsa-mir-200c', 'hsa-mir-429', 'hsa-mir-221',\n",
       "       'hsa-mir-222', 'hsa-mir-205', 'hsa-mir-155', 'hsa-mir-10b',\n",
       "       'hsa-mir-31', 'hsa-mir-34a', 'BRCA1', 'SNAI2', 'VIM', 'CD44', 'CDH1',\n",
       "       'FGFR1', 'PGR', 'ESR1', 'GATA3', 'CCND1', 'KRT18', 'EPCAM', 'PIK3CA',\n",
       "       'TWIST1', 'SNAI1', 'KRT17', 'FOXA1', 'MYC', 'BRCA2', 'TP53', 'ERBB2',\n",
       "       'AKT1', 'EGFR_rna', 'ZEB1', 'MKI67', 'TGFBR2', 'CLDN3', 'AR', 'ZEB2',\n",
       "       'KRT19', 'BCL2_rna', 'PTEN_rna', 'CLDN7', 'MUC1', 'KRT5', 'KRT14',\n",
       "       'CLDN4', 'CD24'],\n",
       "      dtype='object')"
      ]
     },
     "execution_count": 33,
     "metadata": {},
     "output_type": "execute_result"
    }
   ],
   "source": [
    "df_geny.columns"
   ]
  },
  {
   "cell_type": "code",
   "execution_count": 34,
   "id": "2907baed",
   "metadata": {},
   "outputs": [
    {
     "name": "stdout",
     "output_type": "stream",
     "text": [
      "Liczba wspólnych pacjentów: 695\n"
     ]
    }
   ],
   "source": [
    "merged_df2 = df_geny.reset_index().merge(\n",
    "    df_ogolne,\n",
    "    how='inner',\n",
    "    left_on='ID.1',\n",
    "    right_on='cases.submitter_id'\n",
    ")\n",
    "\n",
    "print(\"Liczba wspólnych pacjentów:\", merged_df2['cases.submitter_id'].nunique())"
   ]
  },
  {
   "cell_type": "code",
   "execution_count": 35,
   "id": "251d2e17",
   "metadata": {},
   "outputs": [],
   "source": [
    "merged_df2.to_csv('merged_data.tsv', sep='\\t', index=False)\n"
   ]
  }
 ],
 "metadata": {
  "kernelspec": {
   "display_name": "base",
   "language": "python",
   "name": "python3"
  },
  "language_info": {
   "codemirror_mode": {
    "name": "ipython",
    "version": 3
   },
   "file_extension": ".py",
   "mimetype": "text/x-python",
   "name": "python",
   "nbconvert_exporter": "python",
   "pygments_lexer": "ipython3",
   "version": "3.8.8"
  }
 },
 "nbformat": 4,
 "nbformat_minor": 5
}
